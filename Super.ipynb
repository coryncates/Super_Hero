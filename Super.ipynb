{
 "cells": [
  {
   "cell_type": "code",
   "execution_count": 16,
   "id": "04d2c851",
   "metadata": {
    "ExecuteTime": {
     "end_time": "2023-09-12T03:21:43.946893Z",
     "start_time": "2023-09-12T03:21:43.919693Z"
    }
   },
   "outputs": [
    {
     "data": {
      "text/plain": [
       "(                 Hero|Publisher Gender               Race Alignment  \\\n",
       " 0          A-Bomb|Marvel Comics   Male              Human      good   \n",
       " 1  Abe Sapien|Dark Horse Comics   Male      Icthyo Sapien      good   \n",
       " 2            Abin Sur|DC Comics   Male            Ungaran      good   \n",
       " 3     Abomination|Marvel Comics   Male  Human / Radiation       bad   \n",
       " 4   Absorbing Man|Marvel Comics   Male              Human       bad   \n",
       " \n",
       "   Hair color Eye color Skin color  \\\n",
       " 0    No Hair    yellow    Unknown   \n",
       " 1    No Hair      blue       blue   \n",
       " 2    No Hair      blue        red   \n",
       " 3    No Hair     green    Unknown   \n",
       " 4    No Hair      blue    Unknown   \n",
       " \n",
       "                                    Measurements  \n",
       " 0  {'Height': '203.0 cm', 'Weight': '441.0 kg'}  \n",
       " 1   {'Height': '191.0 cm', 'Weight': '65.0 kg'}  \n",
       " 2   {'Height': '185.0 cm', 'Weight': '90.0 kg'}  \n",
       " 3  {'Height': '203.0 cm', 'Weight': '441.0 kg'}  \n",
       " 4  {'Height': '193.0 cm', 'Weight': '122.0 kg'}  ,\n",
       "     hero_names                                             Powers\n",
       " 0      3-D Man         Agility,Super Strength,Stamina,Super Speed\n",
       " 1       A-Bomb  Accelerated Healing,Durability,Longevity,Super...\n",
       " 2   Abe Sapien  Agility,Accelerated Healing,Cold Resistance,Du...\n",
       " 3     Abin Sur                                 Lantern Power Ring\n",
       " 4  Abomination  Accelerated Healing,Intelligence,Super Strengt...)"
      ]
     },
     "execution_count": 16,
     "metadata": {},
     "output_type": "execute_result"
    }
   ],
   "source": [
    "# Importing required libraries\n",
    "import pandas as pd\n",
    "\n",
    "# Loading the \n",
    "info_df = pd.read_csv(\"/Users/corycates/Documents/GitHub/Super_Hero/Data/superhero_info - superhero_info.csv\")\n",
    "powers_df = pd.read_csv(\"/Users/corycates/Documents/GitHub/Super_Hero/Data/superhero_powers - superhero_powers.csv\")\n",
    "\n",
    "# Displaying the first few rows of each dataframe for inspection\n",
    "info_df.head(), powers_df.head()\n"
   ]
  },
  {
   "cell_type": "code",
   "execution_count": 17,
   "id": "b5eae968",
   "metadata": {
    "ExecuteTime": {
     "end_time": "2023-09-12T03:21:51.269459Z",
     "start_time": "2023-09-12T03:21:51.237144Z"
    }
   },
   "outputs": [
    {
     "data": {
      "text/html": [
       "<div>\n",
       "<style scoped>\n",
       "    .dataframe tbody tr th:only-of-type {\n",
       "        vertical-align: middle;\n",
       "    }\n",
       "\n",
       "    .dataframe tbody tr th {\n",
       "        vertical-align: top;\n",
       "    }\n",
       "\n",
       "    .dataframe thead th {\n",
       "        text-align: right;\n",
       "    }\n",
       "</style>\n",
       "<table border=\"1\" class=\"dataframe\">\n",
       "  <thead>\n",
       "    <tr style=\"text-align: right;\">\n",
       "      <th></th>\n",
       "      <th>Gender</th>\n",
       "      <th>Race</th>\n",
       "      <th>Alignment</th>\n",
       "      <th>Hair color</th>\n",
       "      <th>Eye color</th>\n",
       "      <th>Skin color</th>\n",
       "      <th>Hero</th>\n",
       "      <th>Publisher</th>\n",
       "      <th>Height</th>\n",
       "      <th>Weight</th>\n",
       "    </tr>\n",
       "  </thead>\n",
       "  <tbody>\n",
       "    <tr>\n",
       "      <th>0</th>\n",
       "      <td>Male</td>\n",
       "      <td>Human</td>\n",
       "      <td>good</td>\n",
       "      <td>No Hair</td>\n",
       "      <td>yellow</td>\n",
       "      <td>Unknown</td>\n",
       "      <td>A-Bomb</td>\n",
       "      <td>Marvel Comics</td>\n",
       "      <td>203.0</td>\n",
       "      <td>441.0</td>\n",
       "    </tr>\n",
       "    <tr>\n",
       "      <th>1</th>\n",
       "      <td>Male</td>\n",
       "      <td>Icthyo Sapien</td>\n",
       "      <td>good</td>\n",
       "      <td>No Hair</td>\n",
       "      <td>blue</td>\n",
       "      <td>blue</td>\n",
       "      <td>Abe Sapien</td>\n",
       "      <td>Dark Horse Comics</td>\n",
       "      <td>191.0</td>\n",
       "      <td>65.0</td>\n",
       "    </tr>\n",
       "    <tr>\n",
       "      <th>2</th>\n",
       "      <td>Male</td>\n",
       "      <td>Ungaran</td>\n",
       "      <td>good</td>\n",
       "      <td>No Hair</td>\n",
       "      <td>blue</td>\n",
       "      <td>red</td>\n",
       "      <td>Abin Sur</td>\n",
       "      <td>DC Comics</td>\n",
       "      <td>185.0</td>\n",
       "      <td>90.0</td>\n",
       "    </tr>\n",
       "    <tr>\n",
       "      <th>3</th>\n",
       "      <td>Male</td>\n",
       "      <td>Human / Radiation</td>\n",
       "      <td>bad</td>\n",
       "      <td>No Hair</td>\n",
       "      <td>green</td>\n",
       "      <td>Unknown</td>\n",
       "      <td>Abomination</td>\n",
       "      <td>Marvel Comics</td>\n",
       "      <td>203.0</td>\n",
       "      <td>441.0</td>\n",
       "    </tr>\n",
       "    <tr>\n",
       "      <th>4</th>\n",
       "      <td>Male</td>\n",
       "      <td>Human</td>\n",
       "      <td>bad</td>\n",
       "      <td>No Hair</td>\n",
       "      <td>blue</td>\n",
       "      <td>Unknown</td>\n",
       "      <td>Absorbing Man</td>\n",
       "      <td>Marvel Comics</td>\n",
       "      <td>193.0</td>\n",
       "      <td>122.0</td>\n",
       "    </tr>\n",
       "  </tbody>\n",
       "</table>\n",
       "</div>"
      ],
      "text/plain": [
       "  Gender               Race Alignment Hair color Eye color Skin color  \\\n",
       "0   Male              Human      good    No Hair    yellow    Unknown   \n",
       "1   Male      Icthyo Sapien      good    No Hair      blue       blue   \n",
       "2   Male            Ungaran      good    No Hair      blue        red   \n",
       "3   Male  Human / Radiation       bad    No Hair     green    Unknown   \n",
       "4   Male              Human       bad    No Hair      blue    Unknown   \n",
       "\n",
       "            Hero          Publisher  Height  Weight  \n",
       "0         A-Bomb      Marvel Comics   203.0   441.0  \n",
       "1     Abe Sapien  Dark Horse Comics   191.0    65.0  \n",
       "2       Abin Sur          DC Comics   185.0    90.0  \n",
       "3    Abomination      Marvel Comics   203.0   441.0  \n",
       "4  Absorbing Man      Marvel Comics   193.0   122.0  "
      ]
     },
     "execution_count": 17,
     "metadata": {},
     "output_type": "execute_result"
    }
   ],
   "source": [
    "# Splitting the \"Hero|Publisher\" column\n",
    "info_df[['Hero', 'Publisher']] = info_df['Hero|Publisher'].str.split('|', expand=True)\n",
    "info_df.drop('Hero|Publisher', axis=1, inplace=True)\n",
    "\n",
    "# Extracting height and weight from the \"Measurements\" column\n",
    "info_df['Height'] = info_df['Measurements'].str.extract(\"'Height': '(\\d+.\\d+) cm'\") \n",
    "info_df['Weight'] = info_df['Measurements'].str.extract(\"'Weight': '(\\d+.\\d+) kg'\")\n",
    "\n",
    "# Addressing the issue with spaces in numbers (e.g., \"100 kg\")\n",
    "info_df['Height'] = info_df['Height'].str.replace(' ', '').astype(float)\n",
    "info_df['Weight'] = info_df['Weight'].str.replace(' ', '').astype(float)\n",
    "\n",
    "\n",
    "# Dropping the original \"Measurements\" column\n",
    "info_df.drop('Measurements', axis=1, inplace=True)\n",
    "\n",
    "info_df.head()\n"
   ]
  },
  {
   "cell_type": "code",
   "execution_count": 18,
   "id": "07f688c6",
   "metadata": {
    "ExecuteTime": {
     "end_time": "2023-09-12T03:22:03.595414Z",
     "start_time": "2023-09-12T03:22:03.576541Z"
    }
   },
   "outputs": [
    {
     "data": {
      "text/html": [
       "<div>\n",
       "<style scoped>\n",
       "    .dataframe tbody tr th:only-of-type {\n",
       "        vertical-align: middle;\n",
       "    }\n",
       "\n",
       "    .dataframe tbody tr th {\n",
       "        vertical-align: top;\n",
       "    }\n",
       "\n",
       "    .dataframe thead th {\n",
       "        text-align: right;\n",
       "    }\n",
       "</style>\n",
       "<table border=\"1\" class=\"dataframe\">\n",
       "  <thead>\n",
       "    <tr style=\"text-align: right;\">\n",
       "      <th></th>\n",
       "      <th>Hero</th>\n",
       "      <th>Agility</th>\n",
       "      <th>Flight</th>\n",
       "      <th>Superspeed</th>\n",
       "    </tr>\n",
       "  </thead>\n",
       "  <tbody>\n",
       "    <tr>\n",
       "      <th>0</th>\n",
       "      <td>3-D Man</td>\n",
       "      <td>1</td>\n",
       "      <td>0</td>\n",
       "      <td>0</td>\n",
       "    </tr>\n",
       "    <tr>\n",
       "      <th>1</th>\n",
       "      <td>A-Bomb</td>\n",
       "      <td>0</td>\n",
       "      <td>0</td>\n",
       "      <td>0</td>\n",
       "    </tr>\n",
       "    <tr>\n",
       "      <th>2</th>\n",
       "      <td>Abe Sapien</td>\n",
       "      <td>1</td>\n",
       "      <td>0</td>\n",
       "      <td>0</td>\n",
       "    </tr>\n",
       "    <tr>\n",
       "      <th>3</th>\n",
       "      <td>Abin Sur</td>\n",
       "      <td>0</td>\n",
       "      <td>0</td>\n",
       "      <td>0</td>\n",
       "    </tr>\n",
       "    <tr>\n",
       "      <th>4</th>\n",
       "      <td>Abomination</td>\n",
       "      <td>0</td>\n",
       "      <td>0</td>\n",
       "      <td>0</td>\n",
       "    </tr>\n",
       "  </tbody>\n",
       "</table>\n",
       "</div>"
      ],
      "text/plain": [
       "          Hero  Agility  Flight  Superspeed\n",
       "0      3-D Man        1       0           0\n",
       "1       A-Bomb        0       0           0\n",
       "2   Abe Sapien        1       0           0\n",
       "3     Abin Sur        0       0           0\n",
       "4  Abomination        0       0           0"
      ]
     },
     "execution_count": 18,
     "metadata": {},
     "output_type": "execute_result"
    }
   ],
   "source": [
    "# Renaming the \"hero_names\" column to \"Hero\"\n",
    "powers_df.rename(columns={'hero_names': 'Hero'}, inplace=True)\n",
    "\n",
    "# One-hot-encode the specified powers: Agility, Flight, and Superspeed\n",
    "for power in ['Agility', 'Flight', 'Superspeed']:\n",
    "    powers_df[power] = powers_df['Powers'].str.contains(power).astype(int)\n",
    "    \n",
    "# Dropping the original 'Powers' column\n",
    "powers_df.drop('Powers', axis=1, inplace=True)\n",
    "\n",
    "powers_df.head()\n"
   ]
  },
  {
   "cell_type": "code",
   "execution_count": 20,
   "id": "dd0e6f68",
   "metadata": {
    "ExecuteTime": {
     "end_time": "2023-09-12T03:22:39.977127Z",
     "start_time": "2023-09-12T03:22:39.954214Z"
    }
   },
   "outputs": [
    {
     "data": {
      "text/html": [
       "<div>\n",
       "<style scoped>\n",
       "    .dataframe tbody tr th:only-of-type {\n",
       "        vertical-align: middle;\n",
       "    }\n",
       "\n",
       "    .dataframe tbody tr th {\n",
       "        vertical-align: top;\n",
       "    }\n",
       "\n",
       "    .dataframe thead th {\n",
       "        text-align: right;\n",
       "    }\n",
       "</style>\n",
       "<table border=\"1\" class=\"dataframe\">\n",
       "  <thead>\n",
       "    <tr style=\"text-align: right;\">\n",
       "      <th></th>\n",
       "      <th>Gender</th>\n",
       "      <th>Race</th>\n",
       "      <th>Alignment</th>\n",
       "      <th>Hair color</th>\n",
       "      <th>Eye color</th>\n",
       "      <th>Skin color</th>\n",
       "      <th>Publisher</th>\n",
       "      <th>Height</th>\n",
       "      <th>Weight</th>\n",
       "      <th>Agility</th>\n",
       "      <th>Flight</th>\n",
       "      <th>Superspeed</th>\n",
       "    </tr>\n",
       "  </thead>\n",
       "  <tbody>\n",
       "    <tr>\n",
       "      <th>0</th>\n",
       "      <td>Male</td>\n",
       "      <td>Human</td>\n",
       "      <td>good</td>\n",
       "      <td>No Hair</td>\n",
       "      <td>yellow</td>\n",
       "      <td>Unknown</td>\n",
       "      <td>Marvel Comics</td>\n",
       "      <td>203.0</td>\n",
       "      <td>441.0</td>\n",
       "      <td>0</td>\n",
       "      <td>0</td>\n",
       "      <td>0</td>\n",
       "    </tr>\n",
       "    <tr>\n",
       "      <th>1</th>\n",
       "      <td>Male</td>\n",
       "      <td>Icthyo Sapien</td>\n",
       "      <td>good</td>\n",
       "      <td>No Hair</td>\n",
       "      <td>blue</td>\n",
       "      <td>blue</td>\n",
       "      <td>Dark Horse Comics</td>\n",
       "      <td>191.0</td>\n",
       "      <td>65.0</td>\n",
       "      <td>1</td>\n",
       "      <td>0</td>\n",
       "      <td>0</td>\n",
       "    </tr>\n",
       "    <tr>\n",
       "      <th>2</th>\n",
       "      <td>Male</td>\n",
       "      <td>Ungaran</td>\n",
       "      <td>good</td>\n",
       "      <td>No Hair</td>\n",
       "      <td>blue</td>\n",
       "      <td>red</td>\n",
       "      <td>DC Comics</td>\n",
       "      <td>185.0</td>\n",
       "      <td>90.0</td>\n",
       "      <td>0</td>\n",
       "      <td>0</td>\n",
       "      <td>0</td>\n",
       "    </tr>\n",
       "    <tr>\n",
       "      <th>3</th>\n",
       "      <td>Male</td>\n",
       "      <td>Human / Radiation</td>\n",
       "      <td>bad</td>\n",
       "      <td>No Hair</td>\n",
       "      <td>green</td>\n",
       "      <td>Unknown</td>\n",
       "      <td>Marvel Comics</td>\n",
       "      <td>203.0</td>\n",
       "      <td>441.0</td>\n",
       "      <td>0</td>\n",
       "      <td>0</td>\n",
       "      <td>0</td>\n",
       "    </tr>\n",
       "    <tr>\n",
       "      <th>4</th>\n",
       "      <td>Male</td>\n",
       "      <td>Human</td>\n",
       "      <td>bad</td>\n",
       "      <td>No Hair</td>\n",
       "      <td>blue</td>\n",
       "      <td>Unknown</td>\n",
       "      <td>Marvel Comics</td>\n",
       "      <td>193.0</td>\n",
       "      <td>122.0</td>\n",
       "      <td>0</td>\n",
       "      <td>0</td>\n",
       "      <td>0</td>\n",
       "    </tr>\n",
       "  </tbody>\n",
       "</table>\n",
       "</div>"
      ],
      "text/plain": [
       "  Gender               Race Alignment Hair color Eye color Skin color  \\\n",
       "0   Male              Human      good    No Hair    yellow    Unknown   \n",
       "1   Male      Icthyo Sapien      good    No Hair      blue       blue   \n",
       "2   Male            Ungaran      good    No Hair      blue        red   \n",
       "3   Male  Human / Radiation       bad    No Hair     green    Unknown   \n",
       "4   Male              Human       bad    No Hair      blue    Unknown   \n",
       "\n",
       "           Publisher  Height  Weight  Agility  Flight  Superspeed  \n",
       "0      Marvel Comics   203.0   441.0        0       0           0  \n",
       "1  Dark Horse Comics   191.0    65.0        1       0           0  \n",
       "2          DC Comics   185.0    90.0        0       0           0  \n",
       "3      Marvel Comics   203.0   441.0        0       0           0  \n",
       "4      Marvel Comics   193.0   122.0        0       0           0  "
      ]
     },
     "execution_count": 20,
     "metadata": {},
     "output_type": "execute_result"
    }
   ],
   "source": [
    "# Merging the two dataframes on the \"Hero\" column\n",
    "combined_df = pd.merge(info_df, powers_df, left_on='Hero', right_on='Hero', how='inner')\n",
    "\n",
    "# Dropping the duplicate 'Hero' column from the merged dataframe\n",
    "combined_df.drop('Hero', axis=1, inplace=True)\n",
    "\n",
    "combined_df.head()\n"
   ]
  },
  {
   "cell_type": "code",
   "execution_count": 22,
   "id": "ed2b6b97",
   "metadata": {
    "ExecuteTime": {
     "end_time": "2023-09-12T03:23:28.907533Z",
     "start_time": "2023-09-12T03:23:28.890206Z"
    }
   },
   "outputs": [
    {
     "data": {
      "text/plain": [
       "(nan, 113.58963282937366)"
      ]
     },
     "execution_count": 22,
     "metadata": {},
     "output_type": "execute_result"
    }
   ],
   "source": [
    "# Comparing the average weight of superheroes with and without Super Speed\n",
    "average_weight_with_speed = combined_df[combined_df['Superspeed'] == 1]['Weight'].mean()\n",
    "average_weight_without_speed = combined_df[combined_df['Superspeed'] == 0]['Weight'].mean()\n",
    "\n",
    "average_weight_with_speed, average_weight_without_speed\n"
   ]
  },
  {
   "cell_type": "code",
   "execution_count": 23,
   "id": "4668cfd2",
   "metadata": {
    "ExecuteTime": {
     "end_time": "2023-09-12T03:24:00.061186Z",
     "start_time": "2023-09-12T03:24:00.039732Z"
    }
   },
   "outputs": [
    {
     "data": {
      "text/plain": [
       "Publisher\n",
       "DC Comics            181.923913\n",
       "Dark Horse Comics    176.909091\n",
       "George Lucas         159.600000\n",
       "Image Comics         211.000000\n",
       "Marvel Comics        191.546128\n",
       "Shueisha             171.500000\n",
       "Star Trek            181.500000\n",
       "Team Epic TV         180.750000\n",
       "Unknown              178.000000\n",
       "Name: Height, dtype: float64"
      ]
     },
     "execution_count": 23,
     "metadata": {},
     "output_type": "execute_result"
    }
   ],
   "source": [
    "# Calculating the average height of heroes for each publisher\n",
    "average_height_per_publisher = combined_df.groupby('Publisher')['Height'].mean()\n",
    "\n",
    "average_height_per_publisher\n"
   ]
  },
  {
   "cell_type": "code",
   "execution_count": null,
   "id": "2f4349eb",
   "metadata": {},
   "outputs": [],
   "source": []
  }
 ],
 "metadata": {
  "hide_input": false,
  "kernelspec": {
   "display_name": "Python (dojo-env)",
   "language": "python",
   "name": "dojo-env"
  },
  "language_info": {
   "codemirror_mode": {
    "name": "ipython",
    "version": 3
   },
   "file_extension": ".py",
   "mimetype": "text/x-python",
   "name": "python",
   "nbconvert_exporter": "python",
   "pygments_lexer": "ipython3",
   "version": "3.9.15"
  },
  "nbTranslate": {
   "displayLangs": [
    "*"
   ],
   "hotkey": "alt-t",
   "langInMainMenu": true,
   "sourceLang": "en",
   "targetLang": "fr",
   "useGoogleTranslate": true
  },
  "toc": {
   "base_numbering": 1,
   "nav_menu": {},
   "number_sections": true,
   "sideBar": true,
   "skip_h1_title": false,
   "title_cell": "Table of Contents",
   "title_sidebar": "Contents",
   "toc_cell": false,
   "toc_position": {},
   "toc_section_display": true,
   "toc_window_display": false
  }
 },
 "nbformat": 4,
 "nbformat_minor": 5
}
