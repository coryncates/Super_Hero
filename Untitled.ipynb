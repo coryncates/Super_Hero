{
 "cells": [
  {
   "cell_type": "code",
   "execution_count": null,
   "id": "245cda7a",
   "metadata": {},
   "outputs": [],
   "source": [
    "# Importing required libraries\n",
    "import pandas as pd\n",
    "\n",
    "# Loading the datasets\n",
    "info_df = pd.read_csv(\"/mnt/data/superhero_info - superhero_info.csv\")\n",
    "powers_df = pd.read_csv(\"/mnt/data/superhero_powers - superhero_powers.csv\")\n",
    "\n",
    "# Displaying the first few rows of each dataframe for inspection\n",
    "info_df.head(), powers_df.head()\n"
   ]
  },
  {
   "cell_type": "code",
   "execution_count": null,
   "id": "ff78faab",
   "metadata": {},
   "outputs": [],
   "source": [
    "# Splitting the \"Hero|Publisher\" column\n",
    "info_df[['Hero', 'Publisher']] = info_df['Hero|Publisher'].str.split('|', expand=True)\n",
    "info_df.drop('Hero|Publisher', axis=1, inplace=True)\n",
    "\n",
    "# Extracting height and weight from the \"Measurements\" column\n",
    "info_df['Height'] = info_df['Measurements'].str.extract(\"'Height': '(\\d+.\\d+) cm'\") \n",
    "info_df['Weight'] = info_df['Measurements'].str.extract(\"'Weight': '(\\d+.\\d+) kg'\")\n",
    "\n",
    "# Converting height and weight to numeric values\n",
    "info_df['Height'] = pd.to_numeric(info_df['Height'], errors='coerce')\n",
    "info_df['Weight'] = pd.to_numeric(info_df['Weight'], errors='coerce')\n",
    "\n",
    "# Dropping the original \"Measurements\" column\n",
    "info_df.drop('Measurements', axis=1, inplace=True)\n",
    "\n",
    "info_df.head()\n"
   ]
  },
  {
   "cell_type": "code",
   "execution_count": null,
   "id": "8074d808",
   "metadata": {},
   "outputs": [],
   "source": [
    "# Splitting the powers from the 'Powers' column\n",
    "powers_list = powers_df['Powers'].str.split(', ', expand=True).stack().unique()\n",
    "\n",
    "# One-hot-encoding the powers\n",
    "for power in powers_list:\n",
    "    powers_df[power] = powers_df['Powers'].str.contains(power).astype(int)\n",
    "    \n",
    "# Dropping the original 'Powers' column\n",
    "powers_df.drop('Powers', axis=1, inplace=True)\n",
    "\n",
    "powers_df.head()\n"
   ]
  },
  {
   "cell_type": "code",
   "execution_count": null,
   "id": "0dbebddc",
   "metadata": {},
   "outputs": [],
   "source": [
    "# Merging the two dataframes on the \"Hero\" column\n",
    "combined_df = pd.merge(info_df, powers_df, left_on='Hero', right_on='hero_names', how='inner')\n",
    "\n",
    "# Dropping the duplicate 'hero_names' column from the merged dataframe\n",
    "combined_df.drop('hero_names', axis=1, inplace=True)\n",
    "\n",
    "combined_df.head()\n"
   ]
  },
  {
   "cell_type": "code",
   "execution_count": null,
   "id": "37109dc3",
   "metadata": {},
   "outputs": [],
   "source": [
    "# Comparing the average weight of superheroes with and without Super Speed\n",
    "average_weight_with_speed = combined_df[combined_df['Super Speed'] == 1]['Weight'].mean()\n",
    "average_weight_without_speed = combined_df[combined_df['Super Speed'] == 0]['Weight'].mean()\n",
    "\n",
    "average_weight_with_speed, average_weight_without_speed\n"
   ]
  },
  {
   "cell_type": "code",
   "execution_count": null,
   "id": "ea310886",
   "metadata": {},
   "outputs": [],
   "source": [
    "# Calculating the average height of heroes for each publisher\n",
    "average_height_per_publisher = combined_df.groupby('Publisher')['Height'].mean()\n",
    "\n",
    "average_height_per_publisher\n"
   ]
  }
 ],
 "metadata": {
  "hide_input": false,
  "kernelspec": {
   "display_name": "Python (dojo-env)",
   "language": "python",
   "name": "dojo-env"
  },
  "language_info": {
   "codemirror_mode": {
    "name": "ipython",
    "version": 3
   },
   "file_extension": ".py",
   "mimetype": "text/x-python",
   "name": "python",
   "nbconvert_exporter": "python",
   "pygments_lexer": "ipython3",
   "version": "3.9.15"
  },
  "nbTranslate": {
   "displayLangs": [
    "*"
   ],
   "hotkey": "alt-t",
   "langInMainMenu": true,
   "sourceLang": "en",
   "targetLang": "fr",
   "useGoogleTranslate": true
  },
  "toc": {
   "base_numbering": 1,
   "nav_menu": {},
   "number_sections": true,
   "sideBar": true,
   "skip_h1_title": false,
   "title_cell": "Table of Contents",
   "title_sidebar": "Contents",
   "toc_cell": false,
   "toc_position": {},
   "toc_section_display": true,
   "toc_window_display": false
  }
 },
 "nbformat": 4,
 "nbformat_minor": 5
}
